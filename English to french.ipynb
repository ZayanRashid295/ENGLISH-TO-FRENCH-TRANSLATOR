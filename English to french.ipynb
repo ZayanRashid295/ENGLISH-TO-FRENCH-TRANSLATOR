{
 "cells": [
  {
   "cell_type": "code",
   "execution_count": 9,
   "id": "5c0cff3d-2dd8-46b7-aec8-76ceb5fc7a0a",
   "metadata": {},
   "outputs": [],
   "source": [
    "import torch\n",
    "\n",
    "\n",
    "\n"
   ]
  },
  {
   "cell_type": "code",
   "execution_count": 10,
   "id": "ba9ac541-6154-4ef9-92e4-01ec043d2d80",
   "metadata": {},
   "outputs": [],
   "source": [
    "from transformers import T5Tokenizer,T5ForConditionalGeneration\n"
   ]
  },
  {
   "cell_type": "code",
   "execution_count": 11,
   "id": "a4349edf-3c8b-4d07-8697-777391403eb7",
   "metadata": {},
   "outputs": [
    {
     "name": "stderr",
     "output_type": "stream",
     "text": [
      "Special tokens have been added in the vocabulary, make sure the associated word embeddings are fine-tuned or trained.\n"
     ]
    }
   ],
   "source": [
    "tokenizer=T5Tokenizer.from_pretrained(\"t5-small\")\n"
   ]
  },
  {
   "cell_type": "code",
   "execution_count": 13,
   "id": "1dcbb8e6-e120-4107-ad9c-2a77f3fa0081",
   "metadata": {},
   "outputs": [],
   "source": [
    "model=T5ForConditionalGeneration.from_pretrained(\"t5-small\")"
   ]
  },
  {
   "cell_type": "code",
   "execution_count": 14,
   "id": "119cef5c-caaa-4055-ba8a-92ca79a4fff9",
   "metadata": {},
   "outputs": [
    {
     "name": "stdin",
     "output_type": "stream",
     "text": [
      "Enter the line to translate from English to French:  hi my name is zayan\n"
     ]
    },
    {
     "name": "stdout",
     "output_type": "stream",
     "text": [
      "Generated text : \"hi mon nom est zayan\"\n"
     ]
    }
   ],
   "source": [
    "# Ask the user to enter the line to translate\n",
    "input_prompt = input(\"Enter the line to translate from English to French: \")\n",
    "# Prepare the input prompt for the model\n",
    "input_prompt = f\"translate from English to French: '{input_prompt}'\"\n",
    "input_ids=tokenizer.encode(input_prompt,return_tensors=\"pt\")\n",
    "output=model.generate(input_ids,max_length=1000)\n",
    "generated_text=tokenizer.decode(output[0],skip_special_tokens=True)\n",
    "print(\"Generated text :\" ,generated_text)"
   ]
  },
  {
   "cell_type": "code",
   "execution_count": null,
   "id": "a7f48822-8b3c-49bb-8963-eb897bbeedd3",
   "metadata": {},
   "outputs": [],
   "source": []
  }
 ],
 "metadata": {
  "kernelspec": {
   "display_name": "Python 3 (ipykernel)",
   "language": "python",
   "name": "python3"
  },
  "language_info": {
   "codemirror_mode": {
    "name": "ipython",
    "version": 3
   },
   "file_extension": ".py",
   "mimetype": "text/x-python",
   "name": "python",
   "nbconvert_exporter": "python",
   "pygments_lexer": "ipython3",
   "version": "3.12.3"
  }
 },
 "nbformat": 4,
 "nbformat_minor": 5
}
